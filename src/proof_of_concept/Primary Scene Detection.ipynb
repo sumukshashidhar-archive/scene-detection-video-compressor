{
 "cells": [
  {
   "cell_type": "markdown",
   "id": "a8f8189b",
   "metadata": {},
   "source": [
    "# Install Modules"
   ]
  },
  {
   "cell_type": "code",
   "execution_count": 12,
   "id": "e07426ae",
   "metadata": {},
   "outputs": [
    {
     "name": "stdout",
     "output_type": "stream",
     "text": [
      "Requirement already satisfied: opencv-python in /opt/anaconda3/envs/machinelearning/lib/python3.9/site-packages (4.7.0.72)\n",
      "Requirement already satisfied: numpy>=1.19.3 in /opt/anaconda3/envs/machinelearning/lib/python3.9/site-packages (from opencv-python) (1.24.2)\n",
      "Requirement already satisfied: scikit-learn in /opt/anaconda3/envs/machinelearning/lib/python3.9/site-packages (1.2.1)\n",
      "Requirement already satisfied: joblib>=1.1.1 in /opt/anaconda3/envs/machinelearning/lib/python3.9/site-packages (from scikit-learn) (1.2.0)\n",
      "Requirement already satisfied: threadpoolctl>=2.0.0 in /opt/anaconda3/envs/machinelearning/lib/python3.9/site-packages (from scikit-learn) (3.1.0)\n",
      "Requirement already satisfied: scipy>=1.3.2 in /opt/anaconda3/envs/machinelearning/lib/python3.9/site-packages (from scikit-learn) (1.10.1)\n",
      "Requirement already satisfied: numpy>=1.17.3 in /opt/anaconda3/envs/machinelearning/lib/python3.9/site-packages (from scikit-learn) (1.24.2)\n",
      "Collecting scikit-image\n",
      "  Downloading scikit_image-0.20.0-cp39-cp39-macosx_10_9_x86_64.whl (13.1 MB)\n",
      "\u001b[2K     \u001b[90m━━━━━━━━━━━━━━━━━━━━━━━━━━━━━━━━━━━━━━━━\u001b[0m \u001b[32m13.1/13.1 MB\u001b[0m \u001b[31m86.4 MB/s\u001b[0m eta \u001b[36m0:00:00\u001b[0m00:01\u001b[0m00:01\u001b[0m\n",
      "\u001b[?25hCollecting tifffile>=2019.7.26\n",
      "  Downloading tifffile-2023.2.28-py3-none-any.whl (216 kB)\n",
      "\u001b[2K     \u001b[90m━━━━━━━━━━━━━━━━━━━━━━━━━━━━━━━━━━━━━━\u001b[0m \u001b[32m216.4/216.4 kB\u001b[0m \u001b[31m28.7 MB/s\u001b[0m eta \u001b[36m0:00:00\u001b[0m\n",
      "\u001b[?25hCollecting imageio>=2.4.1\n",
      "  Downloading imageio-2.26.0-py3-none-any.whl (3.4 MB)\n",
      "\u001b[2K     \u001b[90m━━━━━━━━━━━━━━━━━━━━━━━━━━━━━━━━━━━━━━━━\u001b[0m \u001b[32m3.4/3.4 MB\u001b[0m \u001b[31m88.1 MB/s\u001b[0m eta \u001b[36m0:00:00\u001b[0m:00:01\u001b[0m\n",
      "\u001b[?25hRequirement already satisfied: pillow>=9.0.1 in /opt/anaconda3/envs/machinelearning/lib/python3.9/site-packages (from scikit-image) (9.4.0)\n",
      "Collecting scipy<1.9.2,>=1.8\n",
      "  Downloading scipy-1.9.1-cp39-cp39-macosx_12_0_universal2.macosx_10_9_x86_64.whl (58.4 MB)\n",
      "\u001b[2K     \u001b[90m━━━━━━━━━━━━━━━━━━━━━━━━━━━━━━━━━━━━━━━━\u001b[0m \u001b[32m58.4/58.4 MB\u001b[0m \u001b[31m54.9 MB/s\u001b[0m eta \u001b[36m0:00:00\u001b[0m00:01\u001b[0m00:01\u001b[0m\n",
      "\u001b[?25hRequirement already satisfied: numpy>=1.21.1 in /opt/anaconda3/envs/machinelearning/lib/python3.9/site-packages (from scikit-image) (1.24.2)\n",
      "Requirement already satisfied: packaging>=20.0 in /opt/anaconda3/envs/machinelearning/lib/python3.9/site-packages (from scikit-image) (23.0)\n",
      "Collecting networkx>=2.8\n",
      "  Downloading networkx-3.0-py3-none-any.whl (2.0 MB)\n",
      "\u001b[2K     \u001b[90m━━━━━━━━━━━━━━━━━━━━━━━━━━━━━━━━━━━━━━━━\u001b[0m \u001b[32m2.0/2.0 MB\u001b[0m \u001b[31m89.8 MB/s\u001b[0m eta \u001b[36m0:00:00\u001b[0m\n",
      "\u001b[?25hCollecting lazy_loader>=0.1\n",
      "  Downloading lazy_loader-0.1-py3-none-any.whl (8.6 kB)\n",
      "Collecting PyWavelets>=1.1.1\n",
      "  Downloading PyWavelets-1.4.1-cp39-cp39-macosx_10_13_x86_64.whl (4.4 MB)\n",
      "\u001b[2K     \u001b[90m━━━━━━━━━━━━━━━━━━━━━━━━━━━━━━━━━━━━━━━━\u001b[0m \u001b[32m4.4/4.4 MB\u001b[0m \u001b[31m90.0 MB/s\u001b[0m eta \u001b[36m0:00:00\u001b[0m:00:01\u001b[0m\n",
      "\u001b[?25hInstalling collected packages: tifffile, scipy, PyWavelets, networkx, lazy_loader, imageio, scikit-image\n",
      "  Attempting uninstall: scipy\n",
      "    Found existing installation: scipy 1.10.1\n",
      "    Uninstalling scipy-1.10.1:\n",
      "      Successfully uninstalled scipy-1.10.1\n",
      "Successfully installed PyWavelets-1.4.1 imageio-2.26.0 lazy_loader-0.1 networkx-3.0 scikit-image-0.20.0 scipy-1.9.1 tifffile-2023.2.28\n"
     ]
    }
   ],
   "source": [
    "!pip install opencv-python\n",
    "!pip install scikit-learn\n",
    "!pip install scikit-image"
   ]
  },
  {
   "cell_type": "markdown",
   "id": "f6079501",
   "metadata": {},
   "source": [
    "# Import Modules"
   ]
  },
  {
   "cell_type": "code",
   "execution_count": 13,
   "id": "00bb1544",
   "metadata": {},
   "outputs": [],
   "source": [
    "import cv2\n",
    "import numpy as np\n",
    "from skimage.metrics import structural_similarity as ssim"
   ]
  },
  {
   "cell_type": "markdown",
   "id": "3448dedb",
   "metadata": {},
   "source": [
    "# Driver Functions"
   ]
  },
  {
   "cell_type": "code",
   "execution_count": 4,
   "id": "3c7b8e40",
   "metadata": {},
   "outputs": [],
   "source": [
    "def read_first_frame(video_file_path):\n",
    "    # Load the video file\n",
    "    cap = cv2.VideoCapture(video_file_path)\n",
    "\n",
    "    # Check if the video file was successfully opened\n",
    "    if not cap.isOpened():\n",
    "        print(\"Error opening video file\")\n",
    "        return None\n",
    "\n",
    "    # Read the first frame of the video\n",
    "    ret, frame = cap.read()\n",
    "\n",
    "    # Check if the first frame was successfully read\n",
    "    if not ret:\n",
    "        print(\"Error reading first frame\")\n",
    "        return None\n",
    "\n",
    "    # Release the video file\n",
    "    cap.release()\n",
    "\n",
    "    # Return the first frame\n",
    "    return frame"
   ]
  },
  {
   "cell_type": "code",
   "execution_count": 6,
   "id": "8c868edf",
   "metadata": {},
   "outputs": [
    {
     "ename": "error",
     "evalue": "OpenCV(4.7.0) :-1: error: (-5:Bad argument) in function 'imshow'\n> Overload resolution failed:\n>  - imshow() missing required argument 'mat' (pos 2)\n>  - imshow() missing required argument 'mat' (pos 2)\n>  - imshow() missing required argument 'mat' (pos 2)\n",
     "output_type": "error",
     "traceback": [
      "\u001b[0;31m---------------------------------------------------------------------------\u001b[0m",
      "\u001b[0;31merror\u001b[0m                                     Traceback (most recent call last)",
      "Cell \u001b[0;32mIn[6], line 1\u001b[0m\n\u001b[0;32m----> 1\u001b[0m \u001b[43mcv2\u001b[49m\u001b[38;5;241;43m.\u001b[39;49m\u001b[43mimshow\u001b[49m\u001b[43m(\u001b[49m\u001b[43mread_first_frame\u001b[49m\u001b[43m(\u001b[49m\u001b[38;5;124;43m\"\u001b[39;49m\u001b[38;5;124;43m./../../data/stream_1.mp4\u001b[39;49m\u001b[38;5;124;43m\"\u001b[39;49m\u001b[43m)\u001b[49m\u001b[43m)\u001b[49m\n",
      "\u001b[0;31merror\u001b[0m: OpenCV(4.7.0) :-1: error: (-5:Bad argument) in function 'imshow'\n> Overload resolution failed:\n>  - imshow() missing required argument 'mat' (pos 2)\n>  - imshow() missing required argument 'mat' (pos 2)\n>  - imshow() missing required argument 'mat' (pos 2)\n"
     ]
    }
   ],
   "source": [
    "cv2.imshow(read_first_frame(\"./../../data/stream_1.mp4\"))"
   ]
  },
  {
   "cell_type": "code",
   "execution_count": 7,
   "id": "e9e89fbc",
   "metadata": {},
   "outputs": [
    {
     "ename": "KeyboardInterrupt",
     "evalue": "",
     "output_type": "error",
     "traceback": [
      "\u001b[0;31m---------------------------------------------------------------------------\u001b[0m",
      "\u001b[0;31mKeyboardInterrupt\u001b[0m                         Traceback (most recent call last)",
      "Cell \u001b[0;32mIn[7], line 8\u001b[0m\n\u001b[1;32m      6\u001b[0m \u001b[38;5;66;03m# Display the first frame\u001b[39;00m\n\u001b[1;32m      7\u001b[0m cv2\u001b[38;5;241m.\u001b[39mimshow(\u001b[38;5;124m\"\u001b[39m\u001b[38;5;124mFirst Frame\u001b[39m\u001b[38;5;124m\"\u001b[39m, frame)\n\u001b[0;32m----> 8\u001b[0m \u001b[43mcv2\u001b[49m\u001b[38;5;241;43m.\u001b[39;49m\u001b[43mwaitKey\u001b[49m\u001b[43m(\u001b[49m\u001b[38;5;241;43m0\u001b[39;49m\u001b[43m)\u001b[49m\n\u001b[1;32m      9\u001b[0m cv2\u001b[38;5;241m.\u001b[39mdestroyAllWindows()\n",
      "\u001b[0;31mKeyboardInterrupt\u001b[0m: "
     ]
    }
   ],
   "source": [
    "# Read the first frame from the video file\n",
    "cap = cv2.VideoCapture(\"./../../data/stream_1.mp4\")\n",
    "ret, frame = cap.read()\n",
    "cap.release()\n",
    "\n",
    "# Display the first frame\n",
    "cv2.imshow(\"First Frame\", frame)\n",
    "cv2.waitKey(0)\n",
    "cv2.destroyAllWindows()"
   ]
  },
  {
   "cell_type": "markdown",
   "id": "19ef49ce",
   "metadata": {},
   "source": [
    "# Main Function"
   ]
  },
  {
   "cell_type": "code",
   "execution_count": 7,
   "id": "145e2897",
   "metadata": {},
   "outputs": [],
   "source": [
    "def read_video_frames(file_path):\n",
    "    # create a video capture object\n",
    "    cap = cv2.VideoCapture(file_path)\n",
    "    \n",
    "    # check if video file was opened successfully\n",
    "    if not cap.isOpened():\n",
    "        print(f\"Error opening video file: {file_path}\")\n",
    "        return\n",
    "    \n",
    "    # read first frame to get the frame size\n",
    "    ret, frame = cap.read()\n",
    "    if not ret:\n",
    "        print(\"Error reading video file\")\n",
    "        return\n",
    "    \n",
    "    # initialize an empty list to store frames\n",
    "    frames = []\n",
    "    \n",
    "    # add a breaking condition\n",
    "    i = 20\n",
    "    \n",
    "    # iterate through all frames in the video\n",
    "    while i >= 0 and True:\n",
    "        i -= 1\n",
    "        # read the next frame\n",
    "        ret, frame = cap.read()\n",
    "        \n",
    "        # break if end of video is reached\n",
    "        if not ret:\n",
    "            break\n",
    "        \n",
    "        # add the frame to the list\n",
    "        frames.append(frame)\n",
    "    \n",
    "    # release the video capture object\n",
    "    cap.release()\n",
    "    \n",
    "    # convert the list of frames to a matrix\n",
    "    matrix = np.array(frames)\n",
    "    \n",
    "    return matrix"
   ]
  },
  {
   "cell_type": "code",
   "execution_count": 8,
   "id": "f6a71b4e",
   "metadata": {},
   "outputs": [],
   "source": [
    "frames_matrix = read_video_frames('./../../data/stream_1.mp4')\n"
   ]
  },
  {
   "cell_type": "code",
   "execution_count": 11,
   "id": "1806eab9",
   "metadata": {
    "scrolled": true
   },
   "outputs": [
    {
     "data": {
      "text/plain": [
       "(1080, 1920, 3)"
      ]
     },
     "execution_count": 11,
     "metadata": {},
     "output_type": "execute_result"
    }
   ],
   "source": [
    "frames_matrix[0].shape"
   ]
  },
  {
   "cell_type": "code",
   "execution_count": 14,
   "id": "362d5207",
   "metadata": {},
   "outputs": [],
   "source": [
    "def frame_similarity(frame1, frame2):\n",
    "    # convert frames to grayscale if necessary\n",
    "    if frame1.ndim == 3:\n",
    "        frame1 = cv2.cvtColor(frame1, cv2.COLOR_BGR2GRAY)\n",
    "    if frame2.ndim == 3:\n",
    "        frame2 = cv2.cvtColor(frame2, cv2.COLOR_BGR2GRAY)\n",
    "    \n",
    "    # calculate SSIM score between frames\n",
    "    score, _ = ssim(frame1, frame2, full=True)\n",
    "    \n",
    "    return score"
   ]
  },
  {
   "cell_type": "code",
   "execution_count": 15,
   "id": "6c26b544",
   "metadata": {},
   "outputs": [
    {
     "data": {
      "text/plain": [
       "0.9999412755870619"
      ]
     },
     "execution_count": 15,
     "metadata": {},
     "output_type": "execute_result"
    }
   ],
   "source": [
    "frame_similarity(frames_matrix[0], frames_matrix[1])"
   ]
  },
  {
   "cell_type": "code",
   "execution_count": 16,
   "id": "0efd8ab0",
   "metadata": {},
   "outputs": [],
   "source": [
    "def identify_diff_points(file_path):\n",
    "    # create a video capture object\n",
    "    cap = cv2.VideoCapture(file_path)\n",
    "    \n",
    "    # check if video file was opened successfully\n",
    "    if not cap.isOpened():\n",
    "        print(f\"Error opening video file: {file_path}\")\n",
    "        return\n",
    "    \n",
    "    # read first frame to get the frame size\n",
    "    ret, frame = cap.read()\n",
    "    if not ret:\n",
    "        print(\"Error reading video file\")\n",
    "        return\n",
    "    \n",
    "    # initialize an empty list to store frames\n",
    "    frames = []\n",
    "    breakpoints = []\n",
    "    framecounter = 0\n",
    "    # iterate through all frames in the video\n",
    "    while True:\n",
    "        # read the next frame\n",
    "        ret, frame = cap.read()\n",
    "        \n",
    "        # break if end of video is reached\n",
    "        if not ret:\n",
    "            break\n",
    "        \n",
    "        # add the frame to the list\n",
    "        frames.append(frame)\n",
    "        framecounter += 1\n",
    "    \n",
    "    scores = [None for _ in range(len(frames))]\n",
    "    for i in range(len(frames) - 1):\n",
    "        s = frame_similarity(frames[i], frames[i + 1])\n",
    "        scores[i] = s\n",
    "    \n",
    "    return scores"
   ]
  },
  {
   "cell_type": "code",
   "execution_count": null,
   "id": "212372c3",
   "metadata": {},
   "outputs": [],
   "source": [
    "identify_diff_points(\"./../../data/stream_1.mp4\")"
   ]
  },
  {
   "cell_type": "code",
   "execution_count": null,
   "id": "333a1464",
   "metadata": {},
   "outputs": [],
   "source": []
  }
 ],
 "metadata": {
  "kernelspec": {
   "display_name": "Python 3 (ipykernel)",
   "language": "python",
   "name": "python3"
  },
  "language_info": {
   "codemirror_mode": {
    "name": "ipython",
    "version": 3
   },
   "file_extension": ".py",
   "mimetype": "text/x-python",
   "name": "python",
   "nbconvert_exporter": "python",
   "pygments_lexer": "ipython3",
   "version": "3.9.16"
  }
 },
 "nbformat": 4,
 "nbformat_minor": 5
}
